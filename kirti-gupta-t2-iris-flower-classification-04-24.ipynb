{
 "cells": [
  {
   "cell_type": "markdown",
   "id": "eff031e1",
   "metadata": {
    "papermill": {
     "duration": 0.010903,
     "end_time": "2024-04-29T04:27:32.570826",
     "exception": false,
     "start_time": "2024-04-29T04:27:32.559923",
     "status": "completed"
    },
    "tags": []
   },
   "source": [
    "# Task 2 :  Iris Flower Classification\n",
    "# Author:  Kirti Gupta"
   ]
  },
  {
   "cell_type": "markdown",
   "id": "94380ad3",
   "metadata": {
    "papermill": {
     "duration": 0.010165,
     "end_time": "2024-04-29T04:27:32.591651",
     "exception": false,
     "start_time": "2024-04-29T04:27:32.581486",
     "status": "completed"
    },
    "tags": []
   },
   "source": [
    "**Task : Iris Flower Classification**\n",
    "\n",
    " The Iris flower dataset consists of three species: setosa, versicolor,\n",
    " and virginica. These species can be distinguished based on their\n",
    " measurements. Now, imagine that you have the measurements\n",
    " of Iris flowers categorized by their respective species. Your\n",
    " objective is to train a machine learning model that can learn from\n",
    " these measurements and accurately classify the Iris flowers into\n",
    " their respective species.\n",
    " \n",
    " Use the Iris dataset to develop a model that can classify iris\n",
    " flowers into different species based on their sepal and petal\n",
    " measurements. This dataset is widely used for introductory\n",
    " classification tasks."
   ]
  },
  {
   "cell_type": "code",
   "execution_count": 1,
   "id": "1e921744",
   "metadata": {
    "_cell_guid": "b1076dfc-b9ad-4769-8c92-a6c4dae69d19",
    "_uuid": "8f2839f25d086af736a60e9eeb907d3b93b6e0e5",
    "execution": {
     "iopub.execute_input": "2024-04-29T04:27:32.616331Z",
     "iopub.status.busy": "2024-04-29T04:27:32.615536Z",
     "iopub.status.idle": "2024-04-29T04:27:33.568643Z",
     "shell.execute_reply": "2024-04-29T04:27:33.567338Z"
    },
    "papermill": {
     "duration": 0.969394,
     "end_time": "2024-04-29T04:27:33.571512",
     "exception": false,
     "start_time": "2024-04-29T04:27:32.602118",
     "status": "completed"
    },
    "tags": []
   },
   "outputs": [
    {
     "name": "stdout",
     "output_type": "stream",
     "text": [
      "/kaggle/input/iris-flower-dataset/IRIS.csv\n"
     ]
    }
   ],
   "source": [
    "# This Python 3 environment comes with many helpful analytics libraries installed\n",
    "# It is defined by the kaggle/python Docker image: https://github.com/kaggle/docker-python\n",
    "# For example, here's several helpful packages to load\n",
    "\n",
    "import numpy as np # linear algebra\n",
    "import pandas as pd # data processing, CSV file I/O (e.g. pd.read_csv)\n",
    "\n",
    "# Input data files are available in the read-only \"../input/\" directory\n",
    "# For example, running this (by clicking run or pressing Shift+Enter) will list all files under the input directory\n",
    "\n",
    "import os\n",
    "for dirname, _, filenames in os.walk('/kaggle/input'):\n",
    "    for filename in filenames:\n",
    "        print(os.path.join(dirname, filename))\n",
    "\n",
    "# You can write up to 20GB to the current directory (/kaggle/working/) that gets preserved as output when you create a version using \"Save & Run All\" \n",
    "# You can also write temporary files to /kaggle/temp/, but they won't be saved outside of the current session"
   ]
  },
  {
   "cell_type": "markdown",
   "id": "8f4cc1b3",
   "metadata": {
    "papermill": {
     "duration": 0.010412,
     "end_time": "2024-04-29T04:27:33.592620",
     "exception": false,
     "start_time": "2024-04-29T04:27:33.582208",
     "status": "completed"
    },
    "tags": []
   },
   "source": [
    "# Importing Libraries"
   ]
  },
  {
   "cell_type": "code",
   "execution_count": 2,
   "id": "c2e498de",
   "metadata": {
    "execution": {
     "iopub.execute_input": "2024-04-29T04:27:33.616706Z",
     "iopub.status.busy": "2024-04-29T04:27:33.616143Z",
     "iopub.status.idle": "2024-04-29T04:27:35.619578Z",
     "shell.execute_reply": "2024-04-29T04:27:35.617795Z"
    },
    "papermill": {
     "duration": 2.019699,
     "end_time": "2024-04-29T04:27:35.622886",
     "exception": false,
     "start_time": "2024-04-29T04:27:33.603187",
     "status": "completed"
    },
    "tags": []
   },
   "outputs": [],
   "source": [
    "import matplotlib.pyplot as plt\n",
    "import seaborn as sns\n",
    "from sklearn.preprocessing import LabelEncoder\n",
    "from sklearn.model_selection import train_test_split\n",
    "from sklearn.linear_model import LogisticRegression\n",
    "from sklearn.metrics import accuracy_score,precision_score,confusion_matrix"
   ]
  },
  {
   "cell_type": "markdown",
   "id": "11546c04",
   "metadata": {
    "papermill": {
     "duration": 0.011024,
     "end_time": "2024-04-29T04:27:35.645404",
     "exception": false,
     "start_time": "2024-04-29T04:27:35.634380",
     "status": "completed"
    },
    "tags": []
   },
   "source": [
    "# Importing Data "
   ]
  },
  {
   "cell_type": "code",
   "execution_count": 3,
   "id": "e86c82ec",
   "metadata": {
    "execution": {
     "iopub.execute_input": "2024-04-29T04:27:35.674382Z",
     "iopub.status.busy": "2024-04-29T04:27:35.673852Z",
     "iopub.status.idle": "2024-04-29T04:27:35.730934Z",
     "shell.execute_reply": "2024-04-29T04:27:35.729512Z"
    },
    "papermill": {
     "duration": 0.074903,
     "end_time": "2024-04-29T04:27:35.734169",
     "exception": false,
     "start_time": "2024-04-29T04:27:35.659266",
     "status": "completed"
    },
    "tags": []
   },
   "outputs": [
    {
     "data": {
      "text/html": [
       "<div>\n",
       "<style scoped>\n",
       "    .dataframe tbody tr th:only-of-type {\n",
       "        vertical-align: middle;\n",
       "    }\n",
       "\n",
       "    .dataframe tbody tr th {\n",
       "        vertical-align: top;\n",
       "    }\n",
       "\n",
       "    .dataframe thead th {\n",
       "        text-align: right;\n",
       "    }\n",
       "</style>\n",
       "<table border=\"1\" class=\"dataframe\">\n",
       "  <thead>\n",
       "    <tr style=\"text-align: right;\">\n",
       "      <th></th>\n",
       "      <th>sepal_length</th>\n",
       "      <th>sepal_width</th>\n",
       "      <th>petal_length</th>\n",
       "      <th>petal_width</th>\n",
       "      <th>species</th>\n",
       "    </tr>\n",
       "  </thead>\n",
       "  <tbody>\n",
       "    <tr>\n",
       "      <th>0</th>\n",
       "      <td>5.1</td>\n",
       "      <td>3.5</td>\n",
       "      <td>1.4</td>\n",
       "      <td>0.2</td>\n",
       "      <td>Iris-setosa</td>\n",
       "    </tr>\n",
       "    <tr>\n",
       "      <th>1</th>\n",
       "      <td>4.9</td>\n",
       "      <td>3.0</td>\n",
       "      <td>1.4</td>\n",
       "      <td>0.2</td>\n",
       "      <td>Iris-setosa</td>\n",
       "    </tr>\n",
       "    <tr>\n",
       "      <th>2</th>\n",
       "      <td>4.7</td>\n",
       "      <td>3.2</td>\n",
       "      <td>1.3</td>\n",
       "      <td>0.2</td>\n",
       "      <td>Iris-setosa</td>\n",
       "    </tr>\n",
       "    <tr>\n",
       "      <th>3</th>\n",
       "      <td>4.6</td>\n",
       "      <td>3.1</td>\n",
       "      <td>1.5</td>\n",
       "      <td>0.2</td>\n",
       "      <td>Iris-setosa</td>\n",
       "    </tr>\n",
       "    <tr>\n",
       "      <th>4</th>\n",
       "      <td>5.0</td>\n",
       "      <td>3.6</td>\n",
       "      <td>1.4</td>\n",
       "      <td>0.2</td>\n",
       "      <td>Iris-setosa</td>\n",
       "    </tr>\n",
       "    <tr>\n",
       "      <th>...</th>\n",
       "      <td>...</td>\n",
       "      <td>...</td>\n",
       "      <td>...</td>\n",
       "      <td>...</td>\n",
       "      <td>...</td>\n",
       "    </tr>\n",
       "    <tr>\n",
       "      <th>145</th>\n",
       "      <td>6.7</td>\n",
       "      <td>3.0</td>\n",
       "      <td>5.2</td>\n",
       "      <td>2.3</td>\n",
       "      <td>Iris-virginica</td>\n",
       "    </tr>\n",
       "    <tr>\n",
       "      <th>146</th>\n",
       "      <td>6.3</td>\n",
       "      <td>2.5</td>\n",
       "      <td>5.0</td>\n",
       "      <td>1.9</td>\n",
       "      <td>Iris-virginica</td>\n",
       "    </tr>\n",
       "    <tr>\n",
       "      <th>147</th>\n",
       "      <td>6.5</td>\n",
       "      <td>3.0</td>\n",
       "      <td>5.2</td>\n",
       "      <td>2.0</td>\n",
       "      <td>Iris-virginica</td>\n",
       "    </tr>\n",
       "    <tr>\n",
       "      <th>148</th>\n",
       "      <td>6.2</td>\n",
       "      <td>3.4</td>\n",
       "      <td>5.4</td>\n",
       "      <td>2.3</td>\n",
       "      <td>Iris-virginica</td>\n",
       "    </tr>\n",
       "    <tr>\n",
       "      <th>149</th>\n",
       "      <td>5.9</td>\n",
       "      <td>3.0</td>\n",
       "      <td>5.1</td>\n",
       "      <td>1.8</td>\n",
       "      <td>Iris-virginica</td>\n",
       "    </tr>\n",
       "  </tbody>\n",
       "</table>\n",
       "<p>150 rows × 5 columns</p>\n",
       "</div>"
      ],
      "text/plain": [
       "     sepal_length  sepal_width  petal_length  petal_width         species\n",
       "0             5.1          3.5           1.4          0.2     Iris-setosa\n",
       "1             4.9          3.0           1.4          0.2     Iris-setosa\n",
       "2             4.7          3.2           1.3          0.2     Iris-setosa\n",
       "3             4.6          3.1           1.5          0.2     Iris-setosa\n",
       "4             5.0          3.6           1.4          0.2     Iris-setosa\n",
       "..            ...          ...           ...          ...             ...\n",
       "145           6.7          3.0           5.2          2.3  Iris-virginica\n",
       "146           6.3          2.5           5.0          1.9  Iris-virginica\n",
       "147           6.5          3.0           5.2          2.0  Iris-virginica\n",
       "148           6.2          3.4           5.4          2.3  Iris-virginica\n",
       "149           5.9          3.0           5.1          1.8  Iris-virginica\n",
       "\n",
       "[150 rows x 5 columns]"
      ]
     },
     "execution_count": 3,
     "metadata": {},
     "output_type": "execute_result"
    }
   ],
   "source": [
    "data=pd.read_csv(\"/kaggle/input/iris-flower-dataset/IRIS.csv\")\n",
    "data"
   ]
  },
  {
   "cell_type": "markdown",
   "id": "2282b872",
   "metadata": {
    "papermill": {
     "duration": 0.011231,
     "end_time": "2024-04-29T04:27:35.757032",
     "exception": false,
     "start_time": "2024-04-29T04:27:35.745801",
     "status": "completed"
    },
    "tags": []
   },
   "source": [
    "# **Data**"
   ]
  },
  {
   "cell_type": "code",
   "execution_count": 4,
   "id": "e3ab226a",
   "metadata": {
    "execution": {
     "iopub.execute_input": "2024-04-29T04:27:35.783855Z",
     "iopub.status.busy": "2024-04-29T04:27:35.782823Z",
     "iopub.status.idle": "2024-04-29T04:27:35.799921Z",
     "shell.execute_reply": "2024-04-29T04:27:35.798301Z"
    },
    "papermill": {
     "duration": 0.034818,
     "end_time": "2024-04-29T04:27:35.803440",
     "exception": false,
     "start_time": "2024-04-29T04:27:35.768622",
     "status": "completed"
    },
    "tags": []
   },
   "outputs": [
    {
     "data": {
      "text/html": [
       "<div>\n",
       "<style scoped>\n",
       "    .dataframe tbody tr th:only-of-type {\n",
       "        vertical-align: middle;\n",
       "    }\n",
       "\n",
       "    .dataframe tbody tr th {\n",
       "        vertical-align: top;\n",
       "    }\n",
       "\n",
       "    .dataframe thead th {\n",
       "        text-align: right;\n",
       "    }\n",
       "</style>\n",
       "<table border=\"1\" class=\"dataframe\">\n",
       "  <thead>\n",
       "    <tr style=\"text-align: right;\">\n",
       "      <th></th>\n",
       "      <th>sepal_length</th>\n",
       "      <th>sepal_width</th>\n",
       "      <th>petal_length</th>\n",
       "      <th>petal_width</th>\n",
       "      <th>species</th>\n",
       "    </tr>\n",
       "  </thead>\n",
       "  <tbody>\n",
       "    <tr>\n",
       "      <th>0</th>\n",
       "      <td>5.1</td>\n",
       "      <td>3.5</td>\n",
       "      <td>1.4</td>\n",
       "      <td>0.2</td>\n",
       "      <td>Iris-setosa</td>\n",
       "    </tr>\n",
       "    <tr>\n",
       "      <th>1</th>\n",
       "      <td>4.9</td>\n",
       "      <td>3.0</td>\n",
       "      <td>1.4</td>\n",
       "      <td>0.2</td>\n",
       "      <td>Iris-setosa</td>\n",
       "    </tr>\n",
       "    <tr>\n",
       "      <th>2</th>\n",
       "      <td>4.7</td>\n",
       "      <td>3.2</td>\n",
       "      <td>1.3</td>\n",
       "      <td>0.2</td>\n",
       "      <td>Iris-setosa</td>\n",
       "    </tr>\n",
       "    <tr>\n",
       "      <th>3</th>\n",
       "      <td>4.6</td>\n",
       "      <td>3.1</td>\n",
       "      <td>1.5</td>\n",
       "      <td>0.2</td>\n",
       "      <td>Iris-setosa</td>\n",
       "    </tr>\n",
       "    <tr>\n",
       "      <th>4</th>\n",
       "      <td>5.0</td>\n",
       "      <td>3.6</td>\n",
       "      <td>1.4</td>\n",
       "      <td>0.2</td>\n",
       "      <td>Iris-setosa</td>\n",
       "    </tr>\n",
       "  </tbody>\n",
       "</table>\n",
       "</div>"
      ],
      "text/plain": [
       "   sepal_length  sepal_width  petal_length  petal_width      species\n",
       "0           5.1          3.5           1.4          0.2  Iris-setosa\n",
       "1           4.9          3.0           1.4          0.2  Iris-setosa\n",
       "2           4.7          3.2           1.3          0.2  Iris-setosa\n",
       "3           4.6          3.1           1.5          0.2  Iris-setosa\n",
       "4           5.0          3.6           1.4          0.2  Iris-setosa"
      ]
     },
     "execution_count": 4,
     "metadata": {},
     "output_type": "execute_result"
    }
   ],
   "source": [
    "data.head()"
   ]
  },
  {
   "cell_type": "code",
   "execution_count": 5,
   "id": "3a4d6f47",
   "metadata": {
    "execution": {
     "iopub.execute_input": "2024-04-29T04:27:35.830285Z",
     "iopub.status.busy": "2024-04-29T04:27:35.829804Z",
     "iopub.status.idle": "2024-04-29T04:27:35.857817Z",
     "shell.execute_reply": "2024-04-29T04:27:35.856376Z"
    },
    "papermill": {
     "duration": 0.045082,
     "end_time": "2024-04-29T04:27:35.860724",
     "exception": false,
     "start_time": "2024-04-29T04:27:35.815642",
     "status": "completed"
    },
    "tags": []
   },
   "outputs": [
    {
     "name": "stdout",
     "output_type": "stream",
     "text": [
      "<class 'pandas.core.frame.DataFrame'>\n",
      "RangeIndex: 150 entries, 0 to 149\n",
      "Data columns (total 5 columns):\n",
      " #   Column        Non-Null Count  Dtype  \n",
      "---  ------        --------------  -----  \n",
      " 0   sepal_length  150 non-null    float64\n",
      " 1   sepal_width   150 non-null    float64\n",
      " 2   petal_length  150 non-null    float64\n",
      " 3   petal_width   150 non-null    float64\n",
      " 4   species       150 non-null    object \n",
      "dtypes: float64(4), object(1)\n",
      "memory usage: 6.0+ KB\n"
     ]
    }
   ],
   "source": [
    "data.info()"
   ]
  },
  {
   "cell_type": "code",
   "execution_count": 6,
   "id": "d2c929fa",
   "metadata": {
    "execution": {
     "iopub.execute_input": "2024-04-29T04:27:35.888672Z",
     "iopub.status.busy": "2024-04-29T04:27:35.887164Z",
     "iopub.status.idle": "2024-04-29T04:27:35.918798Z",
     "shell.execute_reply": "2024-04-29T04:27:35.917514Z"
    },
    "papermill": {
     "duration": 0.04874,
     "end_time": "2024-04-29T04:27:35.921863",
     "exception": false,
     "start_time": "2024-04-29T04:27:35.873123",
     "status": "completed"
    },
    "tags": []
   },
   "outputs": [
    {
     "data": {
      "text/html": [
       "<div>\n",
       "<style scoped>\n",
       "    .dataframe tbody tr th:only-of-type {\n",
       "        vertical-align: middle;\n",
       "    }\n",
       "\n",
       "    .dataframe tbody tr th {\n",
       "        vertical-align: top;\n",
       "    }\n",
       "\n",
       "    .dataframe thead th {\n",
       "        text-align: right;\n",
       "    }\n",
       "</style>\n",
       "<table border=\"1\" class=\"dataframe\">\n",
       "  <thead>\n",
       "    <tr style=\"text-align: right;\">\n",
       "      <th></th>\n",
       "      <th>sepal_length</th>\n",
       "      <th>sepal_width</th>\n",
       "      <th>petal_length</th>\n",
       "      <th>petal_width</th>\n",
       "    </tr>\n",
       "  </thead>\n",
       "  <tbody>\n",
       "    <tr>\n",
       "      <th>count</th>\n",
       "      <td>150.000000</td>\n",
       "      <td>150.000000</td>\n",
       "      <td>150.000000</td>\n",
       "      <td>150.000000</td>\n",
       "    </tr>\n",
       "    <tr>\n",
       "      <th>mean</th>\n",
       "      <td>5.843333</td>\n",
       "      <td>3.054000</td>\n",
       "      <td>3.758667</td>\n",
       "      <td>1.198667</td>\n",
       "    </tr>\n",
       "    <tr>\n",
       "      <th>std</th>\n",
       "      <td>0.828066</td>\n",
       "      <td>0.433594</td>\n",
       "      <td>1.764420</td>\n",
       "      <td>0.763161</td>\n",
       "    </tr>\n",
       "    <tr>\n",
       "      <th>min</th>\n",
       "      <td>4.300000</td>\n",
       "      <td>2.000000</td>\n",
       "      <td>1.000000</td>\n",
       "      <td>0.100000</td>\n",
       "    </tr>\n",
       "    <tr>\n",
       "      <th>25%</th>\n",
       "      <td>5.100000</td>\n",
       "      <td>2.800000</td>\n",
       "      <td>1.600000</td>\n",
       "      <td>0.300000</td>\n",
       "    </tr>\n",
       "    <tr>\n",
       "      <th>50%</th>\n",
       "      <td>5.800000</td>\n",
       "      <td>3.000000</td>\n",
       "      <td>4.350000</td>\n",
       "      <td>1.300000</td>\n",
       "    </tr>\n",
       "    <tr>\n",
       "      <th>75%</th>\n",
       "      <td>6.400000</td>\n",
       "      <td>3.300000</td>\n",
       "      <td>5.100000</td>\n",
       "      <td>1.800000</td>\n",
       "    </tr>\n",
       "    <tr>\n",
       "      <th>max</th>\n",
       "      <td>7.900000</td>\n",
       "      <td>4.400000</td>\n",
       "      <td>6.900000</td>\n",
       "      <td>2.500000</td>\n",
       "    </tr>\n",
       "  </tbody>\n",
       "</table>\n",
       "</div>"
      ],
      "text/plain": [
       "       sepal_length  sepal_width  petal_length  petal_width\n",
       "count    150.000000   150.000000    150.000000   150.000000\n",
       "mean       5.843333     3.054000      3.758667     1.198667\n",
       "std        0.828066     0.433594      1.764420     0.763161\n",
       "min        4.300000     2.000000      1.000000     0.100000\n",
       "25%        5.100000     2.800000      1.600000     0.300000\n",
       "50%        5.800000     3.000000      4.350000     1.300000\n",
       "75%        6.400000     3.300000      5.100000     1.800000\n",
       "max        7.900000     4.400000      6.900000     2.500000"
      ]
     },
     "execution_count": 6,
     "metadata": {},
     "output_type": "execute_result"
    }
   ],
   "source": [
    "data.describe()"
   ]
  },
  {
   "cell_type": "code",
   "execution_count": 7,
   "id": "53a130a3",
   "metadata": {
    "execution": {
     "iopub.execute_input": "2024-04-29T04:27:35.949855Z",
     "iopub.status.busy": "2024-04-29T04:27:35.948660Z",
     "iopub.status.idle": "2024-04-29T04:27:35.956279Z",
     "shell.execute_reply": "2024-04-29T04:27:35.954504Z"
    },
    "papermill": {
     "duration": 0.024694,
     "end_time": "2024-04-29T04:27:35.959020",
     "exception": false,
     "start_time": "2024-04-29T04:27:35.934326",
     "status": "completed"
    },
    "tags": []
   },
   "outputs": [
    {
     "name": "stdout",
     "output_type": "stream",
     "text": [
      "Number of rows are:  150\n",
      "Number of columns are:  5\n"
     ]
    }
   ],
   "source": [
    "print(\"Number of rows are: \",data.shape[0])\n",
    "print(\"Number of columns are: \",data.shape[1])"
   ]
  },
  {
   "cell_type": "code",
   "execution_count": 8,
   "id": "9732509a",
   "metadata": {
    "execution": {
     "iopub.execute_input": "2024-04-29T04:27:35.986990Z",
     "iopub.status.busy": "2024-04-29T04:27:35.986018Z",
     "iopub.status.idle": "2024-04-29T04:27:35.997120Z",
     "shell.execute_reply": "2024-04-29T04:27:35.995601Z"
    },
    "papermill": {
     "duration": 0.02886,
     "end_time": "2024-04-29T04:27:36.000365",
     "exception": false,
     "start_time": "2024-04-29T04:27:35.971505",
     "status": "completed"
    },
    "tags": []
   },
   "outputs": [
    {
     "data": {
      "text/plain": [
       "sepal_length    0\n",
       "sepal_width     0\n",
       "petal_length    0\n",
       "petal_width     0\n",
       "species         0\n",
       "dtype: int64"
      ]
     },
     "execution_count": 8,
     "metadata": {},
     "output_type": "execute_result"
    }
   ],
   "source": [
    "# Checking for null values and missing values\n",
    "data.isnull().sum()"
   ]
  },
  {
   "cell_type": "code",
   "execution_count": 9,
   "id": "a3c1225c",
   "metadata": {
    "execution": {
     "iopub.execute_input": "2024-04-29T04:27:36.028455Z",
     "iopub.status.busy": "2024-04-29T04:27:36.027975Z",
     "iopub.status.idle": "2024-04-29T04:27:36.037354Z",
     "shell.execute_reply": "2024-04-29T04:27:36.035951Z"
    },
    "papermill": {
     "duration": 0.027658,
     "end_time": "2024-04-29T04:27:36.040777",
     "exception": false,
     "start_time": "2024-04-29T04:27:36.013119",
     "status": "completed"
    },
    "tags": []
   },
   "outputs": [
    {
     "name": "stdout",
     "output_type": "stream",
     "text": [
      "No. of unique values in sepal_length is 35\n",
      "No. of unique values in sepal_width is 23\n",
      "No. of unique values in petal_length is 43\n",
      "No. of unique values in petal_width is 22\n",
      "No. of unique values in species is 3\n"
     ]
    }
   ],
   "source": [
    "# Check Unique Values for each variable.\n",
    "for i in data.columns.tolist():\n",
    "  print(\"No. of unique values in\",i,\"is\",data[i].nunique())"
   ]
  },
  {
   "cell_type": "markdown",
   "id": "bc9524a0",
   "metadata": {
    "papermill": {
     "duration": 0.013967,
     "end_time": "2024-04-29T04:27:36.068404",
     "exception": false,
     "start_time": "2024-04-29T04:27:36.054437",
     "status": "completed"
    },
    "tags": []
   },
   "source": [
    "# **VISUALIZATION**"
   ]
  },
  {
   "cell_type": "code",
   "execution_count": 10,
   "id": "83956b0d",
   "metadata": {
    "execution": {
     "iopub.execute_input": "2024-04-29T04:27:36.095997Z",
     "iopub.status.busy": "2024-04-29T04:27:36.095347Z",
     "iopub.status.idle": "2024-04-29T04:27:37.196104Z",
     "shell.execute_reply": "2024-04-29T04:27:37.195141Z"
    },
    "papermill": {
     "duration": 1.117482,
     "end_time": "2024-04-29T04:27:37.198543",
     "exception": false,
     "start_time": "2024-04-29T04:27:36.081061",
     "status": "completed"
    },
    "tags": []
   },
   "outputs": [
    {
     "data": {
      "image/png": "[encoded data removed]",
      "text/plain": [
       "<Figure size 800x600 with 4 Axes>"
      ]
     },
     "metadata": {},
     "output_type": "display_data"
    }
   ],
   "source": [
    "# Chart - 1 Histogram visualization code for distribution of numerical variables\n",
    "# Create a figure with subplots\n",
    "plt.figure(figsize=(8, 6))\n",
    "plt.suptitle('Distribution of Iris Flower Measurements', fontsize=14)\n",
    "\n",
    "# Create a 2x2 grid of subplots\n",
    "plt.subplot(2, 2, 1)  # Subplot 1 (Top-Left)\n",
    "plt.hist(data['sepal_length'])\n",
    "plt.title('Sepal Length Distribution')\n",
    "\n",
    "plt.subplot(2, 2, 2)  # Subplot 2 (Top-Right)\n",
    "plt.hist(data['sepal_width'])\n",
    "plt.title('Sepal Width Distribution')\n",
    "\n",
    "plt.subplot(2, 2, 3)  # Subplot 3 (Bottom-Left)\n",
    "plt.hist(data['petal_length'])\n",
    "plt.title('Petal Length Distribution')\n",
    "\n",
    "plt.subplot(2, 2, 4)  # Subplot 4 (Bottom-Right)\n",
    "plt.hist(data['petal_width'])\n",
    "plt.title('Petal Width Distribution')\n",
    "\n",
    "# Display the subplots\n",
    "plt.tight_layout()  # Helps in adjusting the layout\n",
    "plt.show()"
   ]
  },
  {
   "cell_type": "code",
   "execution_count": 11,
   "id": "aaccd967",
   "metadata": {
    "execution": {
     "iopub.execute_input": "2024-04-29T04:27:37.226494Z",
     "iopub.status.busy": "2024-04-29T04:27:37.225536Z",
     "iopub.status.idle": "2024-04-29T04:27:37.230733Z",
     "shell.execute_reply": "2024-04-29T04:27:37.229902Z"
    },
    "papermill": {
     "duration": 0.021708,
     "end_time": "2024-04-29T04:27:37.233028",
     "exception": false,
     "start_time": "2024-04-29T04:27:37.211320",
     "status": "completed"
    },
    "tags": []
   },
   "outputs": [],
   "source": [
    "# Define colors for each species and the corresponding species labels.\n",
    "colors = ['red', 'yellow', 'blue']\n",
    "species = ['Iris-setosa', 'Iris-versicolor', 'Iris-virginica']"
   ]
  },
  {
   "cell_type": "code",
   "execution_count": 12,
   "id": "1570ab76",
   "metadata": {
    "execution": {
     "iopub.execute_input": "2024-04-29T04:27:37.260380Z",
     "iopub.status.busy": "2024-04-29T04:27:37.259677Z",
     "iopub.status.idle": "2024-04-29T04:27:37.628231Z",
     "shell.execute_reply": "2024-04-29T04:27:37.627007Z"
    },
    "papermill": {
     "duration": 0.385724,
     "end_time": "2024-04-29T04:27:37.631405",
     "exception": false,
     "start_time": "2024-04-29T04:27:37.245681",
     "status": "completed"
    },
    "tags": []
   },
   "outputs": [
    {
     "data": {
      "image/png": "[encoded data removed]",
      "text/plain": [
       "<Figure size 640x480 with 1 Axes>"
      ]
     },
     "metadata": {},
     "output_type": "display_data"
    }
   ],
   "source": [
    "# Chart - 2 Scatter plot visualization code for Sepal Length vs Sepal Width.\n",
    "# Create a scatter plot for Sepal Length vs Sepal Width for each species.\n",
    "for i in range(3):\n",
    "    # Select data for the current species.\n",
    "    x = data[data['species'] == species[i]]\n",
    "\n",
    "    # Create a scatter plot with the specified color and label for the current species.\n",
    "    plt.scatter(x['sepal_length'], x['sepal_width'], c=colors[i], label=species[i])\n",
    "\n",
    "# Add labels to the x and y axes.\n",
    "plt.xlabel('Sepal Length')\n",
    "plt.ylabel('Sepal Width')\n",
    "\n",
    "# Add a legend to identify species based on colors.\n",
    "plt.legend()\n",
    "\n",
    "# Display the scatter plot.\n",
    "plt.show()"
   ]
  },
  {
   "cell_type": "code",
   "execution_count": 13,
   "id": "2dd299ed",
   "metadata": {
    "execution": {
     "iopub.execute_input": "2024-04-29T04:27:37.663946Z",
     "iopub.status.busy": "2024-04-29T04:27:37.663375Z",
     "iopub.status.idle": "2024-04-29T04:27:38.019033Z",
     "shell.execute_reply": "2024-04-29T04:27:38.017791Z"
    },
    "papermill": {
     "duration": 0.374998,
     "end_time": "2024-04-29T04:27:38.021435",
     "exception": false,
     "start_time": "2024-04-29T04:27:37.646437",
     "status": "completed"
    },
    "tags": []
   },
   "outputs": [
    {
     "data": {
      "image/png": "[encoded data removed]",
      "text/plain": [
       "<Figure size 640x480 with 1 Axes>"
      ]
     },
     "metadata": {},
     "output_type": "display_data"
    }
   ],
   "source": [
    "# Chart - 3 Scatter plot visualization code for Petal Length vs Petal Width.\n",
    "# Create a scatter plot for Petal Length vs Petal Width for each species.\n",
    "for i in range(3):\n",
    "    # Select data for the current species.\n",
    "    x = data[data['species'] == species[i]]\n",
    "\n",
    "    # Create a scatter plot with the specified color and label for the current species.\n",
    "    plt.scatter(x['petal_length'], x['petal_width'], c=colors[i], label=species[i])\n",
    "\n",
    "# Add labels to the x and y axes.\n",
    "plt.xlabel('Petal Length')\n",
    "plt.ylabel('Petal Width')\n",
    "\n",
    "# Add a legend to identify species based on colors.\n",
    "plt.legend()\n",
    "\n",
    "# Display the scatter plot.\n",
    "plt.show()\n",
    "     "
   ]
  },
  {
   "cell_type": "code",
   "execution_count": 14,
   "id": "a24a1b32",
   "metadata": {
    "execution": {
     "iopub.execute_input": "2024-04-29T04:27:38.051824Z",
     "iopub.status.busy": "2024-04-29T04:27:38.050653Z",
     "iopub.status.idle": "2024-04-29T04:27:38.414884Z",
     "shell.execute_reply": "2024-04-29T04:27:38.413766Z"
    },
    "papermill": {
     "duration": 0.381885,
     "end_time": "2024-04-29T04:27:38.417473",
     "exception": false,
     "start_time": "2024-04-29T04:27:38.035588",
     "status": "completed"
    },
    "tags": []
   },
   "outputs": [
    {
     "data": {
      "image/png": "[encoded data removed]",
      "text/plain": [
       "<Figure size 640x480 with 1 Axes>"
      ]
     },
     "metadata": {},
     "output_type": "display_data"
    }
   ],
   "source": [
    "# Chart - 4 Scatter plot visualization code for Sepal Length vs Petal Length.\n",
    "# Create a scatter plot for Sepal Length vs Petal Length for each species.\n",
    "for i in range(3):\n",
    "    # Select data for the current species.\n",
    "    x = data[data['species'] == species[i]]\n",
    "\n",
    "    # Create a scatter plot with the specified color and label for the current species.\n",
    "    plt.scatter(x['sepal_length'], x['petal_length'], c=colors[i], label=species[i])\n",
    "\n",
    "# Add labels to the x and y axes.\n",
    "plt.xlabel('Sepal Length')\n",
    "plt.ylabel('Petal Length')\n",
    "\n",
    "# Add a legend to identify species based on colors.\n",
    "plt.legend()\n",
    "\n",
    "# Display the scatter plot.\n",
    "plt.show()"
   ]
  },
  {
   "cell_type": "code",
   "execution_count": 15,
   "id": "755f9b70",
   "metadata": {
    "execution": {
     "iopub.execute_input": "2024-04-29T04:27:38.447841Z",
     "iopub.status.busy": "2024-04-29T04:27:38.447406Z",
     "iopub.status.idle": "2024-04-29T04:27:38.841676Z",
     "shell.execute_reply": "2024-04-29T04:27:38.840546Z"
    },
    "papermill": {
     "duration": 0.412374,
     "end_time": "2024-04-29T04:27:38.844213",
     "exception": false,
     "start_time": "2024-04-29T04:27:38.431839",
     "status": "completed"
    },
    "tags": []
   },
   "outputs": [
    {
     "data": {
      "image/png": "[encoded data removed]",
      "text/plain": [
       "<Figure size 640x480 with 1 Axes>"
      ]
     },
     "metadata": {},
     "output_type": "display_data"
    }
   ],
   "source": [
    "# Chart - 5 Scatter plot visualization code for Sepal Width vs Petal Width.\n",
    "# Create a scatter plot for Sepal Width vs Petal Width for each species.\n",
    "for i in range(3):\n",
    "    # Select data for the current species.\n",
    "    x = data[data['species'] == species[i]]\n",
    "\n",
    "    # Create a scatter plot with the specified color and label for the current species.\n",
    "    plt.scatter(x['sepal_width'], x['petal_width'], c=colors[i], label=species[i])\n",
    "\n",
    "# Add labels to the x and y axes.\n",
    "plt.xlabel('Sepal Width')\n",
    "plt.ylabel('Petal Width')\n",
    "\n",
    "# Add a legend to identify species based on colors.\n",
    "plt.legend()\n",
    "\n",
    "# Display the scatter plot.\n",
    "plt.show()"
   ]
  },
  {
   "cell_type": "markdown",
   "id": "52354661",
   "metadata": {
    "papermill": {
     "duration": 0.014431,
     "end_time": "2024-04-29T04:27:38.873617",
     "exception": false,
     "start_time": "2024-04-29T04:27:38.859186",
     "status": "completed"
    },
    "tags": []
   },
   "source": [
    "# **FEATURE ENGINEERING**"
   ]
  },
  {
   "cell_type": "code",
   "execution_count": 16,
   "id": "ed54cf0b",
   "metadata": {
    "execution": {
     "iopub.execute_input": "2024-04-29T04:27:38.905963Z",
     "iopub.status.busy": "2024-04-29T04:27:38.905346Z",
     "iopub.status.idle": "2024-04-29T04:27:38.919061Z",
     "shell.execute_reply": "2024-04-29T04:27:38.917859Z"
    },
    "papermill": {
     "duration": 0.033096,
     "end_time": "2024-04-29T04:27:38.921575",
     "exception": false,
     "start_time": "2024-04-29T04:27:38.888479",
     "status": "completed"
    },
    "tags": []
   },
   "outputs": [
    {
     "name": "stdout",
     "output_type": "stream",
     "text": [
      "<class 'pandas.core.frame.DataFrame'>\n",
      "RangeIndex: 150 entries, 0 to 149\n",
      "Data columns (total 5 columns):\n",
      " #   Column        Non-Null Count  Dtype  \n",
      "---  ------        --------------  -----  \n",
      " 0   sepal_length  150 non-null    float64\n",
      " 1   sepal_width   150 non-null    float64\n",
      " 2   petal_length  150 non-null    float64\n",
      " 3   petal_width   150 non-null    float64\n",
      " 4   species       150 non-null    object \n",
      "dtypes: float64(4), object(1)\n",
      "memory usage: 6.0+ KB\n"
     ]
    }
   ],
   "source": [
    "data.info()"
   ]
  },
  {
   "cell_type": "code",
   "execution_count": 17,
   "id": "8898bc46",
   "metadata": {
    "execution": {
     "iopub.execute_input": "2024-04-29T04:27:38.952958Z",
     "iopub.status.busy": "2024-04-29T04:27:38.952579Z",
     "iopub.status.idle": "2024-04-29T04:27:38.960679Z",
     "shell.execute_reply": "2024-04-29T04:27:38.959392Z"
    },
    "papermill": {
     "duration": 0.026766,
     "end_time": "2024-04-29T04:27:38.963183",
     "exception": false,
     "start_time": "2024-04-29T04:27:38.936417",
     "status": "completed"
    },
    "tags": []
   },
   "outputs": [
    {
     "data": {
      "text/plain": [
       "array(['Iris-setosa', 'Iris-versicolor', 'Iris-virginica'], dtype=object)"
      ]
     },
     "execution_count": 17,
     "metadata": {},
     "output_type": "execute_result"
    }
   ],
   "source": [
    "data['species'].unique()"
   ]
  },
  {
   "cell_type": "code",
   "execution_count": 18,
   "id": "0f3cc902",
   "metadata": {
    "execution": {
     "iopub.execute_input": "2024-04-29T04:27:38.995329Z",
     "iopub.status.busy": "2024-04-29T04:27:38.994894Z",
     "iopub.status.idle": "2024-04-29T04:27:39.003353Z",
     "shell.execute_reply": "2024-04-29T04:27:39.002096Z"
    },
    "papermill": {
     "duration": 0.027616,
     "end_time": "2024-04-29T04:27:39.005913",
     "exception": false,
     "start_time": "2024-04-29T04:27:38.978297",
     "status": "completed"
    },
    "tags": []
   },
   "outputs": [
    {
     "name": "stdout",
     "output_type": "stream",
     "text": [
      "Encoded Species Values: [0 1 2]\n"
     ]
    }
   ],
   "source": [
    "# Encode the categorical columns\n",
    "# Create a LabelEncoder object\n",
    "le = LabelEncoder()\n",
    "\n",
    "# Encode the 'Species' column to convert the species names to numerical labels\n",
    "data['species'] = le.fit_transform(data['species'])\n",
    "\n",
    "# Check the unique values in the 'Species' column after encoding\n",
    "unique_species = data['species'].unique()\n",
    "\n",
    "# Display the unique encoded values\n",
    "# 'Iris-setosa' == 0, 'Iris-versicolor' == 1, 'Iris-virginica' == 2\n",
    "\n",
    "print(\"Encoded Species Values:\", unique_species)"
   ]
  },
  {
   "cell_type": "code",
   "execution_count": 19,
   "id": "e3c7b8f3",
   "metadata": {
    "execution": {
     "iopub.execute_input": "2024-04-29T04:27:39.040809Z",
     "iopub.status.busy": "2024-04-29T04:27:39.040409Z",
     "iopub.status.idle": "2024-04-29T04:27:39.467834Z",
     "shell.execute_reply": "2024-04-29T04:27:39.466590Z"
    },
    "papermill": {
     "duration": 0.449715,
     "end_time": "2024-04-29T04:27:39.470749",
     "exception": false,
     "start_time": "2024-04-29T04:27:39.021034",
     "status": "completed"
    },
    "tags": []
   },
   "outputs": [
    {
     "data": {
      "image/png": "[encoded data removed]",
      "text/plain": [
       "<Figure size 800x400 with 2 Axes>"
      ]
     },
     "metadata": {},
     "output_type": "display_data"
    }
   ],
   "source": [
    "# Correlation Heatmap Visualization Code\n",
    "corr_matrix = data.corr()\n",
    "\n",
    "# Plot Heatmap\n",
    "plt.figure(figsize=(8, 4))\n",
    "sns.heatmap(corr_matrix, annot=True, cmap='Reds_r')\n",
    "\n",
    "# Setting Labels\n",
    "plt.title('Correlation Matrix heatmap')\n",
    "\n",
    "# Display Chart\n",
    "plt.show()"
   ]
  },
  {
   "cell_type": "markdown",
   "id": "14ddb2a8",
   "metadata": {
    "papermill": {
     "duration": 0.016938,
     "end_time": "2024-04-29T04:27:39.506855",
     "exception": false,
     "start_time": "2024-04-29T04:27:39.489917",
     "status": "completed"
    },
    "tags": []
   },
   "source": [
    "# **TEST AND TRAIN DATASET SPLIT**"
   ]
  },
  {
   "cell_type": "code",
   "execution_count": 20,
   "id": "d8b4423c",
   "metadata": {
    "execution": {
     "iopub.execute_input": "2024-04-29T04:27:39.541740Z",
     "iopub.status.busy": "2024-04-29T04:27:39.540350Z",
     "iopub.status.idle": "2024-04-29T04:27:39.552256Z",
     "shell.execute_reply": "2024-04-29T04:27:39.551076Z"
    },
    "papermill": {
     "duration": 0.031804,
     "end_time": "2024-04-29T04:27:39.554876",
     "exception": false,
     "start_time": "2024-04-29T04:27:39.523072",
     "status": "completed"
    },
    "tags": []
   },
   "outputs": [],
   "source": [
    "# X are the features of the dataset\n",
    "X = data.drop(['species'], axis=1)\n",
    "\n",
    "# y is the target of the dataset\n",
    "y = data[\"species\"] \n",
    "\n",
    "x_train, x_test, y_train, y_test = train_test_split( X, y, test_size=0.2) "
   ]
  },
  {
   "cell_type": "code",
   "execution_count": 21,
   "id": "fa26245c",
   "metadata": {
    "execution": {
     "iopub.execute_input": "2024-04-29T04:27:39.589505Z",
     "iopub.status.busy": "2024-04-29T04:27:39.588501Z",
     "iopub.status.idle": "2024-04-29T04:27:39.594985Z",
     "shell.execute_reply": "2024-04-29T04:27:39.593734Z"
    },
    "papermill": {
     "duration": 0.026349,
     "end_time": "2024-04-29T04:27:39.597663",
     "exception": false,
     "start_time": "2024-04-29T04:27:39.571314",
     "status": "completed"
    },
    "tags": []
   },
   "outputs": [
    {
     "name": "stdout",
     "output_type": "stream",
     "text": [
      "Train dataset\n",
      " (120, 4) \n",
      " 120\n",
      "\n",
      "\n",
      "Test dataset\n",
      " (30, 4) \n",
      " 30\n"
     ]
    }
   ],
   "source": [
    "# Checking the shape of train and test datasets\n",
    "\n",
    "print(\"Train dataset\\n\",x_train.shape,\"\\n\",y_train.shape[0])\n",
    "print(\"\\n\")\n",
    "print(\"Test dataset\\n\",x_test.shape,\"\\n\",y_test.shape[0])"
   ]
  },
  {
   "cell_type": "code",
   "execution_count": 22,
   "id": "0b5a4a28",
   "metadata": {
    "execution": {
     "iopub.execute_input": "2024-04-29T04:27:39.636347Z",
     "iopub.status.busy": "2024-04-29T04:27:39.635976Z",
     "iopub.status.idle": "2024-04-29T04:27:39.647509Z",
     "shell.execute_reply": "2024-04-29T04:27:39.646358Z"
    },
    "papermill": {
     "duration": 0.035999,
     "end_time": "2024-04-29T04:27:39.649781",
     "exception": false,
     "start_time": "2024-04-29T04:27:39.613782",
     "status": "completed"
    },
    "tags": []
   },
   "outputs": [
    {
     "data": {
      "text/plain": [
       "species\n",
       "1    41\n",
       "2    40\n",
       "0    39\n",
       "Name: count, dtype: int64"
      ]
     },
     "execution_count": 22,
     "metadata": {},
     "output_type": "execute_result"
    }
   ],
   "source": [
    "# Checking the train distribution of dependent variable\n",
    "y_train.value_counts()"
   ]
  },
  {
   "cell_type": "markdown",
   "id": "9e02fdca",
   "metadata": {
    "papermill": {
     "duration": 0.016184,
     "end_time": "2024-04-29T04:27:39.683678",
     "exception": false,
     "start_time": "2024-04-29T04:27:39.667494",
     "status": "completed"
    },
    "tags": []
   },
   "source": [
    "# **MODEL TRAINING**\n",
    "* Logistic Regression\n",
    "* Random Forest Classifier\n",
    "* KNN Classifier"
   ]
  },
  {
   "cell_type": "code",
   "execution_count": 23,
   "id": "5df82d9a",
   "metadata": {
    "execution": {
     "iopub.execute_input": "2024-04-29T04:27:39.718122Z",
     "iopub.status.busy": "2024-04-29T04:27:39.717162Z",
     "iopub.status.idle": "2024-04-29T04:27:39.754718Z",
     "shell.execute_reply": "2024-04-29T04:27:39.753254Z"
    },
    "papermill": {
     "duration": 0.057309,
     "end_time": "2024-04-29T04:27:39.757079",
     "exception": false,
     "start_time": "2024-04-29T04:27:39.699770",
     "status": "completed"
    },
    "tags": []
   },
   "outputs": [
    {
     "name": "stdout",
     "output_type": "stream",
     "text": [
      "Accuracy of Logistic Regression: 1.0\n"
     ]
    }
   ],
   "source": [
    "from sklearn.linear_model import LogisticRegression\n",
    "from sklearn.metrics import accuracy_score\n",
    "\n",
    "# Initialize the logistic regression model\n",
    "logistic_reg = LogisticRegression(max_iter=1000)\n",
    "\n",
    "# Train the model on the training data\n",
    "logistic_reg.fit(x_train, y_train)\n",
    "\n",
    "# Predictions on the testing data\n",
    "y_pred = logistic_reg.predict(x_test)\n",
    "\n",
    "# Evaluate the accuracy of the model\n",
    "accuracy = accuracy_score(y_test, y_pred)\n",
    "print(\"Accuracy of Logistic Regression:\", accuracy)"
   ]
  },
  {
   "cell_type": "code",
   "execution_count": 24,
   "id": "3f09e245",
   "metadata": {
    "execution": {
     "iopub.execute_input": "2024-04-29T04:27:39.792301Z",
     "iopub.status.busy": "2024-04-29T04:27:39.790984Z",
     "iopub.status.idle": "2024-04-29T04:27:40.191571Z",
     "shell.execute_reply": "2024-04-29T04:27:40.190323Z"
    },
    "papermill": {
     "duration": 0.420981,
     "end_time": "2024-04-29T04:27:40.194292",
     "exception": false,
     "start_time": "2024-04-29T04:27:39.773311",
     "status": "completed"
    },
    "tags": []
   },
   "outputs": [
    {
     "name": "stdout",
     "output_type": "stream",
     "text": [
      "Accuracy of Random Forest Classifier 1.0\n"
     ]
    }
   ],
   "source": [
    "from sklearn.ensemble import RandomForestClassifier \n",
    "from sklearn.metrics import accuracy_score \n",
    "  \n",
    "# Initialize the RandomForest Classifier\n",
    "randomforest = RandomForestClassifier() \n",
    "  \n",
    "# Fit the training data along with its output \n",
    "randomforest.fit(x_train, y_train) \n",
    "\n",
    "# Predictions on the testing data\n",
    "y_pred = randomforest.predict(x_test) \n",
    "  \n",
    "# Find the accuracy score of the model \n",
    "acc_randomforest = accuracy_score(y_test,y_pred)\n",
    "print(\"Accuracy of Random Forest Classifier\",acc_randomforest) "
   ]
  },
  {
   "cell_type": "code",
   "execution_count": 25,
   "id": "88578790",
   "metadata": {
    "execution": {
     "iopub.execute_input": "2024-04-29T04:27:40.229139Z",
     "iopub.status.busy": "2024-04-29T04:27:40.228485Z",
     "iopub.status.idle": "2024-04-29T04:27:40.243978Z",
     "shell.execute_reply": "2024-04-29T04:27:40.242876Z"
    },
    "papermill": {
     "duration": 0.035927,
     "end_time": "2024-04-29T04:27:40.246376",
     "exception": false,
     "start_time": "2024-04-29T04:27:40.210449",
     "status": "completed"
    },
    "tags": []
   },
   "outputs": [
    {
     "name": "stdout",
     "output_type": "stream",
     "text": [
      "Accuracy of KNN Classifier: 1.0\n"
     ]
    }
   ],
   "source": [
    "from sklearn.neighbors import KNeighborsClassifier\n",
    "from sklearn.metrics import accuracy_score\n",
    "\n",
    "# Assuming you have already performed train_test_split and named the variables accordingly\n",
    "\n",
    "# Initialize the KNN Classifier model\n",
    "knn_classifier = KNeighborsClassifier(n_neighbors=5)  # You can adjust the number of neighbors (default is 5)\n",
    "\n",
    "# Train the model on the training data\n",
    "knn_classifier.fit(x_train, y_train)\n",
    "\n",
    "# Predictions on the test data\n",
    "y_pred = knn_classifier.predict(x_test)\n",
    "\n",
    "# Evaluate the model's performance\n",
    "accuracy = accuracy_score(y_test, y_pred)\n",
    "print(\"Accuracy of KNN Classifier:\", accuracy)\n"
   ]
  }
 ],
 "metadata": {
  "kaggle": {
   "accelerator": "none",
   "dataSources": [
    {
     "datasetId": 17860,
     "sourceId": 23404,
     "sourceType": "datasetVersion"
    }
   ],
   "dockerImageVersionId": 30698,
   "isGpuEnabled": false,
   "isInternetEnabled": false,
   "language": "python",
   "sourceType": "notebook"
  },
  "kernelspec": {
   "display_name": "Python 3",
   "language": "python",
   "name": "python3"
  },
  "language_info": {
   "codemirror_mode": {
    "name": "ipython",
    "version": 3
   },
   "file_extension": ".py",
   "mimetype": "text/x-python",
   "name": "python",
   "nbconvert_exporter": "python",
   "pygments_lexer": "ipython3",
   "version": "3.10.13"
  },
  "papermill": {
   "default_parameters": {},
   "duration": 11.54819,
   "end_time": "2024-04-29T04:27:40.984572",
   "environment_variables": {},
   "exception": null,
   "input_path": "__notebook__.ipynb",
   "output_path": "__notebook__.ipynb",
   "parameters": {},
   "start_time": "2024-04-29T04:27:29.436382",
   "version": "2.5.0"
  }
 },
 "nbformat": 4,
 "nbformat_minor": 5
}
